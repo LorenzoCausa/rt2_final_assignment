{
 "cells": [
  {
   "cell_type": "code",
   "execution_count": 1,
   "id": "30bb017f-fb88-4762-b53a-7f136a14b166",
   "metadata": {},
   "outputs": [],
   "source": [
    "%matplotlib widget\n",
    "import numpy as np\n",
    "import matplotlib.pyplot as plt\n",
    "import jupyros as jr\n",
    "import rospy\n",
    "from nav_msgs.msg import Odometry\n",
    "from matplotlib import animation, rc\n",
    "from geometry_msgs.msg import Twist\n",
    "import ipywidgets as widgets\n",
    "from IPython.display import display\n",
    "from rt2_assignment1.srv import Command\n",
    "from ipywidgets import Button, Layout, ButtonStyle, GridBox, VBox, HBox\n",
    "import ipywidgets as widgets\n",
    "import time\n",
    "from matplotlib import animation, rc\n",
    "import actionlib\n",
    "from rt2_assignment1.msg import go_to_pointActionResult\n",
    "\n",
    "\n",
    "rospy.init_node('robot_control_node')\n",
    "\n"
   ]
  },
  {
   "cell_type": "code",
   "execution_count": 2,
   "id": "362b4754-046e-4bbe-804a-efd921f75454",
   "metadata": {},
   "outputs": [
    {
     "data": {
      "application/vnd.jupyter.widget-view+json": {
       "model_id": "22a95502584b4156a9ddf52aa6fdbb06",
       "version_major": 2,
       "version_minor": 0
      },
      "text/plain": [
       "FloatSlider(value=0.3, description='linear', max=1.0, min=0.3)"
      ]
     },
     "metadata": {},
     "output_type": "display_data"
    },
    {
     "data": {
      "application/vnd.jupyter.widget-view+json": {
       "model_id": "bb44811dd71a42e58e8ecbaa69999e49",
       "version_major": 2,
       "version_minor": 0
      },
      "text/plain": [
       "FloatSlider(value=0.5, description='angular', max=1.0, min=0.5)"
      ]
     },
     "metadata": {},
     "output_type": "display_data"
    }
   ],
   "source": [
    "\n",
    "x_linear=0.3\n",
    "z_angular=0.5\n",
    "\n",
    "a = widgets.FloatSlider(min=0.3, max=1.0, description=\"linear\")\n",
    "display(a)\n",
    "\n",
    "b = widgets.FloatSlider(min=0.5, max=1.0, description=\"angular\")\n",
    "display(b)\n",
    "\n",
    "velocities_pub = rospy.Publisher('velocities', Twist, queue_size=10)\n",
    "velocities_msg = Twist()\n",
    "velocities_msg.linear.x=x_linear\n",
    "velocities_msg.angular.z=z_angular\n",
    "\n",
    "def on_value_change(change):\n",
    "    \"\"\"Callback for when the slider of the linear velocity is changed, it updates the variable x_linear\"\"\"\n",
    "    global x_linear,velocities_msg\n",
    "    x_linear= change['new']\n",
    "    velocities_msg.linear.x = change['new']\n",
    "    velocities_pub.publish(velocities_msg)\n",
    "    \n",
    "    \n",
    "def on_valueang_change(change): \n",
    "    \"\"\"Callback for when the slider of the angular velocity is changed, it updates the variable z_linear\"\"\"\n",
    "    global z_angular,velocities_msg\n",
    "    z_angular= change['new']\n",
    "    velocities_msg.angular.z = change['new']\n",
    "    velocities_pub.publish(velocities_msg)\n",
    "\n",
    "a.observe(on_value_change, names='value')\n",
    "b.observe(on_valueang_change, names='value')"
   ]
  },
  {
   "cell_type": "code",
   "execution_count": 3,
   "id": "9ecb4c5d-3049-414a-96f8-473bcdb98b5d",
   "metadata": {},
   "outputs": [
    {
     "data": {
      "application/vnd.jupyter.widget-view+json": {
       "model_id": "c5cc9bfbcea34d87b3ff6a3bd620c19d",
       "version_major": 2,
       "version_minor": 0
      },
      "text/plain": [
       "Button(description='start', layout=Layout(width='auto'), style=ButtonStyle())"
      ]
     },
     "metadata": {},
     "output_type": "display_data"
    },
    {
     "data": {
      "application/vnd.jupyter.widget-view+json": {
       "model_id": "7715403306d448cabdb89dbe181347a9",
       "version_major": 2,
       "version_minor": 0
      },
      "text/plain": [
       "Button(description='stop when target reached', layout=Layout(width='auto'), style=ButtonStyle())"
      ]
     },
     "metadata": {},
     "output_type": "display_data"
    },
    {
     "data": {
      "application/vnd.jupyter.widget-view+json": {
       "model_id": "349aae6d083c4c1698b9fc90ec8bfd38",
       "version_major": 2,
       "version_minor": 0
      },
      "text/plain": [
       "Button(description='stop now', layout=Layout(width='auto'), style=ButtonStyle())"
      ]
     },
     "metadata": {},
     "output_type": "display_data"
    }
   ],
   "source": [
    "ui_client = rospy.ServiceProxy('/user_interface', Command)\n",
    "\n",
    "button_start = widgets.Button(description=\"start\",layout=Layout(width='auto'))\n",
    "button_stop = widgets.Button(description=\"stop when target reached\",layout=Layout(width='auto'))\n",
    "button_stop_now = widgets.Button(description=\"stop now\",layout=Layout(width='auto'))\n",
    "output = widgets.Output()\n",
    "display(button_start,button_stop,button_stop_now)\n",
    "\n",
    "#handle changes, the observe method of the widget can be used to register a callback.\n",
    "def on_button_start_clicked(b):\n",
    "    \"\"\"Callback for when the button start is pressed, it sends a request to the /user_interface service\"\"\"\n",
    "    with output:\n",
    "        print(\"Starting the robot.\")\n",
    "        ui_client(\"start\")\n",
    "def on_button_stop_clicked(b):\n",
    "    \"\"\"Callback for when the button stop is pressed, it sends a request to the /user_interface service\"\"\"\n",
    "    with output:\n",
    "        print(\"Robot will stop when target reached.\")\n",
    "        ui_client(\"stop\")\n",
    "def on_button_stop_now_clicked(b):\n",
    "    \"\"\"Callback for when the button stop now is pressed, it sends a request to the /user_interface service\"\"\"\n",
    "    with output:\n",
    "        print(\"Robot stopped.\")    \n",
    "        ui_client(\"stop_now\")\n",
    "        \n",
    "button_start.on_click(on_button_start_clicked)\n",
    "button_stop.on_click(on_button_stop_clicked)\n",
    "button_stop_now.on_click(on_button_stop_now_clicked)"
   ]
  },
  {
   "cell_type": "code",
   "execution_count": 4,
   "id": "d40a1ac7-8a21-4c0e-a225-1f64a07a0dc2",
   "metadata": {},
   "outputs": [
    {
     "data": {
      "application/vnd.jupyter.widget-view+json": {
       "model_id": "a5e51b122bdf4073b0d65aff039d06fe",
       "version_major": 2,
       "version_minor": 0
      },
      "text/plain": [
       "VBox(children=(Button(description='forward', layout=Layout(width='default'), style=ButtonStyle(button_color='l…"
      ]
     },
     "metadata": {},
     "output_type": "display_data"
    }
   ],
   "source": [
    "\n",
    "cmd_vel_msg = Twist()\n",
    "cmd_vel_msg.linear.x=0\n",
    "cmd_vel_msg.angular.z=0\n",
    "\n",
    "cmd_vel_pub = rospy.Publisher('cmd_vel', Twist, queue_size=10)\n",
    "\n",
    "forward = widgets.Button(description=\"forward\",layout=Layout(width='default'),align=\"center\",style=ButtonStyle(button_color='lightgreen'))\n",
    "turn_right = widgets.Button(description=\"turn right\",layout=Layout(width='auto'),style=ButtonStyle(button_color='moccasin'))\n",
    "turn_left = widgets.Button(description=\"turn left\",layout=Layout(width='auto'),style=ButtonStyle(button_color='moccasin'))\n",
    "backward = widgets.Button(description=\"backward\",layout=Layout(width='default'),align=\"center\",style=ButtonStyle(button_color='gold'))\n",
    "stop = widgets.Button(description=\"stop\",layout=Layout(width='default'),style=ButtonStyle(button_color='salmon'))\n",
    "output = widgets.Output()\n",
    "#display(forward,turn_right,turn_left,backward,stop,output)\n",
    "\n",
    "#handle changes, the observe method of the widget can be used to register a callback.\n",
    "def on_button_forward_clicked(b):\n",
    "    \"\"\"Callback for when the button forward is pressed, it sends publish to the /cmd_vel topic\"\"\"\n",
    "    with output:\n",
    "        global cmd_vel_msg,x_linear,z_angular,ui_client\n",
    "        ui_client(\"stop_now\")\n",
    "        time.sleep(1/20)                  # the ui_client cancel the goal and stops the robot by publishing zero velocities in cmd_vel,\n",
    "        print(\"going straight forward.\")  # we need to wait some time in order to be sure to publish the new velocities after that\n",
    "        cmd_vel_msg.linear.x=x_linear\n",
    "        cmd_vel_msg.angular.z=0\n",
    "        cmd_vel_pub.publish(cmd_vel_msg)\n",
    "                           \n",
    "def on_button_backward_clicked(b):\n",
    "    \"\"\"Callback for when the button backward is pressed, it sends publish to the /cmd_vel topic\"\"\"\n",
    "    with output:\n",
    "        global cmd_vel_msg,x_linear,z_angular,ui_client\n",
    "        ui_client(\"stop_now\")\n",
    "        time.sleep(1/20)                    # the ui_client cancel the goal and stops the robot by publishing zero velocities in cmd_vel,\n",
    "        print(\"going straight backward.\")   # we need to wait some time in order to be sure to publish the new velocities after that\n",
    "        cmd_vel_msg.linear.x=-x_linear\n",
    "        cmd_vel_msg.angular.z=0\n",
    "        cmd_vel_pub.publish(cmd_vel_msg)                           \n",
    "\n",
    "def on_button_turn_left_clicked(b):\n",
    "    \"\"\"Callback for when the button turn left is pressed, it sends publish to the /cmd_vel topic\"\"\"\n",
    "    with output:\n",
    "        global cmd_vel_msg,x_linear,z_angular,ui_client\n",
    "        ui_client(\"stop_now\")\n",
    "        time.sleep(1/20)                   # the ui_client cancel the goal and stops the robot by publishing zero velocities in cmd_vel, \n",
    "        print(\"turning left.\")             # we need to wait some time in order to be sure to publish the new velocities after that\n",
    "        cmd_vel_msg.linear.x=0\n",
    "        cmd_vel_msg.angular.z=-z_angular\n",
    "        cmd_vel_pub.publish(cmd_vel_msg) \n",
    "                           \n",
    "def on_button_turn_right_clicked(b):\n",
    "    \"\"\"Callback for when the button turn right is pressed, it sends publish to the /cmd_vel topic\"\"\"\n",
    "    with output:\n",
    "        global cmd_vel_msg,x_linear,z_angular,ui_client\n",
    "        ui_client(\"stop_now\")\n",
    "        time.sleep(1/20)                   # the ui_client cancel the goal and stops the robot by publishing zero velocities in cmd_vel, \n",
    "        print(\"turning right.\")            # we need to wait some time in order to be sure to publish the new velocities after that\n",
    "        cmd_vel_msg.linear.x=0\n",
    "        cmd_vel_msg.angular.z=z_angular\n",
    "        cmd_vel_pub.publish(cmd_vel_msg)                          \n",
    "        \n",
    "def on_button_stop_clicked(b):\n",
    "    \"\"\"Callback for when the button stop is pressed, it sends publish to the /cmd_vel topic\"\"\"\n",
    "    with output:\n",
    "        global cmd_vel_msg,x_linear,z_angular,ui_client\n",
    "        ui_client(\"stop_now\")\n",
    "        time.sleep(1/20)                  # the ui_client cancel the goal and stops the robot by publishing zero velocities in cmd_vel \n",
    "        print(\"robot stopped.\")           # we need to wait some time in order to be sure to publish the new velocities after that\n",
    "        cmd_vel_msg.linear.x=0\n",
    "        cmd_vel_msg.angular.z=0\n",
    "        cmd_vel_pub.publish(cmd_vel_msg)\n",
    "        \n",
    "forward.on_click(on_button_forward_clicked)\n",
    "backward.on_click(on_button_backward_clicked)\n",
    "turn_left.on_click(on_button_turn_left_clicked)\n",
    "turn_right.on_click(on_button_turn_right_clicked)  \n",
    "stop.on_click(on_button_stop_clicked)  \n",
    "\n",
    "VBox([forward,HBox([turn_left,turn_right]),backward,stop])"
   ]
  },
  {
   "cell_type": "code",
   "execution_count": 5,
   "id": "d066fa4e-8520-4ce4-89dd-89d170ba055d",
   "metadata": {},
   "outputs": [
    {
     "data": {
      "application/vnd.jupyter.widget-view+json": {
       "model_id": "93ec538ddb1e4a7c9d36585f0a039ef7",
       "version_major": 2,
       "version_minor": 0
      },
      "text/plain": [
       "Canvas(toolbar=Toolbar(toolitems=[('Home', 'Reset original view', 'home', 'home'), ('Back', 'Back to previous …"
      ]
     },
     "metadata": {},
     "output_type": "display_data"
    },
    {
     "data": {
      "text/plain": [
       "<matplotlib.legend.Legend at 0x7f9948d5ea90>"
      ]
     },
     "execution_count": 5,
     "metadata": {},
     "output_type": "execute_result"
    }
   ],
   "source": [
    "fig, ax = plt.subplots()\n",
    "x_lin=0\n",
    "z_ang=0\n",
    "x_lin_cmd_vel, = ax.plot([], [], 'ro',label='x_lin cmd_vel',linestyle = '-',markersize=1,marker = ',')\n",
    "z_ang_cmd_vel, = ax.plot([], [], 'ro',label='z_ang cmd_vel',color = 'blue',linestyle = '-',markersize=1,marker = ',')\n",
    "plt.axis([0, 10, -2, 2])\n",
    "tick=time.time()\n",
    "x_data=[]\n",
    "x_lin_cmd_vel_data=[]\n",
    "z_ang_cmd_vel_data=[]\n",
    "ax.set_xlabel('time')  # Add an x-label to the axes.\n",
    "ax.set_title(\"velocities\")  # Add a title to the axes.\n",
    "ax.legend()  # Add a legend."
   ]
  },
  {
   "cell_type": "code",
   "execution_count": 6,
   "id": "b7b39d05-9a0e-45f7-a889-0e35a8782326",
   "metadata": {},
   "outputs": [
    {
     "data": {
      "application/vnd.jupyter.widget-view+json": {
       "model_id": "19af4fe145e94383842cbe9c7cfe1672",
       "version_major": 2,
       "version_minor": 0
      },
      "text/plain": [
       "VBox(children=(HBox(children=(Button(description='Stop', style=ButtonStyle()),)), Output(layout=Layout(border=…"
      ]
     },
     "metadata": {},
     "output_type": "display_data"
    }
   ],
   "source": [
    "def init():\n",
    "    x_lin_cmd_vel.set_data([], [])\n",
    "    z_ang_cmd_vel.set_data([], [])\n",
    "    return (x_lin_cmd_vel,z_ang_cmd_vel)\n",
    "\n",
    "\n",
    "def cmd_callback(msg):\n",
    "    global x_lin,z_ang\n",
    "    x_lin=msg.linear.x\n",
    "    z_ang=msg.angular.z\n",
    "    \n",
    "\n",
    "def animate(i):\n",
    "    global tick\n",
    "    x_lin_cmd_vel_data.append(x_lin)\n",
    "    z_ang_cmd_vel_data.append(z_ang)\n",
    "    x_data.append(time.time()-tick)\n",
    "    x_lin_cmd_vel.set_data(x_data, x_lin_cmd_vel_data)\n",
    "    z_ang_cmd_vel.set_data(x_data, z_ang_cmd_vel_data)\n",
    "    \n",
    "    if x_data[len(x_data)-1]>9 :\n",
    "        plt.axis([x_data[len(x_data)-1]-9, x_data[len(x_data)-1]+1, -2, 2])   \n",
    "        x_lin_cmd_vel_data.pop(0)\n",
    "        z_ang_cmd_vel_data.pop(0)\n",
    "        x_data.pop(0)\n",
    "        \n",
    "    return (x_lin_cmd_vel,z_ang_cmd_vel)\n",
    "\n",
    "jr.subscribe('/cmd_vel', Twist, cmd_callback)\n",
    "#rospy.Subscriber('/cmd_vel', Twist, cmd_callback)"
   ]
  },
  {
   "cell_type": "code",
   "execution_count": 7,
   "id": "6190130a-77fd-49c0-bfd8-6334e8f4b24a",
   "metadata": {},
   "outputs": [],
   "source": [
    "# call the animator. blit=True means only re-draw the parts that have changed.\n",
    "\n",
    "anim = animation.FuncAnimation(fig, animate, init_func=init, blit=True,interval=20)"
   ]
  },
  {
   "cell_type": "code",
   "execution_count": 8,
   "id": "8ddfd1aa-5f07-44a0-9c1d-48034498d388",
   "metadata": {},
   "outputs": [
    {
     "data": {
      "application/vnd.jupyter.widget-view+json": {
       "model_id": "f337117cb0504efbb2387a9d6d227cd8",
       "version_major": 2,
       "version_minor": 0
      },
      "text/plain": [
       "VBox(children=(HBox(children=(Button(description='Stop', style=ButtonStyle()),)), Output(layout=Layout(border=…"
      ]
     },
     "metadata": {},
     "output_type": "display_data"
    }
   ],
   "source": [
    "N_succ=0\n",
    "N_preempt=0\n",
    "\n",
    "def result_callback(msg):\n",
    "    global N_succ,N_preempt\n",
    "    \n",
    "    if msg.status.status==2:\n",
    "        N_preempt=N_preempt+1\n",
    "        \n",
    "    if msg.status.status==3:\n",
    "        N_succ=N_succ+1     \n",
    "    \n",
    "jr.subscribe('/go_to_point/result', go_to_pointActionResult, result_callback)\n",
    "#rospy.Subscriber('/go_to_point/result', Twist, cmd_callback)\n"
   ]
  },
  {
   "cell_type": "code",
   "execution_count": 9,
   "id": "b4f7b703-1f85-4100-ae5f-991e5a08a295",
   "metadata": {},
   "outputs": [
    {
     "name": "stdout",
     "output_type": "stream",
     "text": [
      "0\n"
     ]
    }
   ],
   "source": [
    "print(N_succ)\n",
    "#FAI BOXPLOT!!"
   ]
  },
  {
   "cell_type": "code",
   "execution_count": null,
   "id": "f436a10a-942b-47c3-bf69-14cbbf25ae06",
   "metadata": {},
   "outputs": [],
   "source": []
  }
 ],
 "metadata": {
  "kernelspec": {
   "display_name": "Python 3",
   "language": "python",
   "name": "python3"
  },
  "language_info": {
   "codemirror_mode": {
    "name": "ipython",
    "version": 3
   },
   "file_extension": ".py",
   "mimetype": "text/x-python",
   "name": "python",
   "nbconvert_exporter": "python",
   "pygments_lexer": "ipython3",
   "version": "3.8.5"
  }
 },
 "nbformat": 4,
 "nbformat_minor": 5
}
