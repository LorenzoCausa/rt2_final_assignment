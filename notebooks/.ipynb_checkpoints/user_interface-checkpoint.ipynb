{
 "cells": [
  {
   "cell_type": "code",
   "execution_count": 1,
   "id": "30bb017f-fb88-4762-b53a-7f136a14b166",
   "metadata": {},
   "outputs": [],
   "source": [
    "%matplotlib widget\n",
    "import numpy as np\n",
    "import matplotlib.pyplot as plt\n",
    "import jupyros as jr\n",
    "import rospy\n",
    "from nav_msgs.msg import Odometry\n",
    "from matplotlib import animation, rc\n",
    "from geometry_msgs.msg import Twist\n",
    "import ipywidgets as widgets\n",
    "from IPython.display import display\n",
    "from rt2_assignment1.srv import Command\n",
    "from ipywidgets import Button, Layout, ButtonStyle, GridBox, VBox, HBox\n",
    "import ipywidgets as widgets\n",
    "\n",
    "rospy.init_node('robot_control_node')\n",
    "\n"
   ]
  },
  {
   "cell_type": "code",
   "execution_count": 2,
   "id": "362b4754-046e-4bbe-804a-efd921f75454",
   "metadata": {},
   "outputs": [
    {
     "data": {
      "application/vnd.jupyter.widget-view+json": {
       "model_id": "6702b2452aa14d09979058741b9173a3",
       "version_major": 2,
       "version_minor": 0
      },
      "text/plain": [
       "FloatSlider(value=0.0, max=1.0)"
      ]
     },
     "metadata": {},
     "output_type": "display_data"
    },
    {
     "data": {
      "application/vnd.jupyter.widget-view+json": {
       "model_id": "5980f56400c14ef08d3217205f9dfefd",
       "version_major": 2,
       "version_minor": 0
      },
      "text/plain": [
       "FloatSlider(value=0.0, max=1.0)"
      ]
     },
     "metadata": {},
     "output_type": "display_data"
    }
   ],
   "source": [
    "\n",
    "x_linear=0\n",
    "z_angular=0\n",
    "\n",
    "a = widgets.FloatSlider(min=0, max=1.0)\n",
    "display(a)\n",
    "\n",
    "b = widgets.FloatSlider(min=0, max=1.0)\n",
    "display(b)\n",
    "\n",
    "\n",
    "def on_value_change(change):\n",
    "    global x_linear\n",
    "    x_linear= change['new']\n",
    "    \n",
    "def on_valueang_change(change):   \n",
    "    global z_angular\n",
    "    z_angular= change['new']\n",
    "\n",
    "a.observe(on_value_change, names='value')\n",
    "b.observe(on_valueang_change, names='value')"
   ]
  },
  {
   "cell_type": "code",
   "execution_count": 3,
   "id": "9ecb4c5d-3049-414a-96f8-473bcdb98b5d",
   "metadata": {},
   "outputs": [
    {
     "data": {
      "application/vnd.jupyter.widget-view+json": {
       "model_id": "75ee9ea0350c4eb58f79a71551b8adf7",
       "version_major": 2,
       "version_minor": 0
      },
      "text/plain": [
       "Button(description='start', layout=Layout(width='auto'), style=ButtonStyle())"
      ]
     },
     "metadata": {},
     "output_type": "display_data"
    },
    {
     "data": {
      "application/vnd.jupyter.widget-view+json": {
       "model_id": "1831742d28d24157b64378bd8431d569",
       "version_major": 2,
       "version_minor": 0
      },
      "text/plain": [
       "Button(description='stop when target reached', layout=Layout(width='auto'), style=ButtonStyle())"
      ]
     },
     "metadata": {},
     "output_type": "display_data"
    },
    {
     "data": {
      "application/vnd.jupyter.widget-view+json": {
       "model_id": "b0578f40c57d4ff8baa673846b74634d",
       "version_major": 2,
       "version_minor": 0
      },
      "text/plain": [
       "Button(description='stop now', layout=Layout(width='auto'), style=ButtonStyle())"
      ]
     },
     "metadata": {},
     "output_type": "display_data"
    },
    {
     "data": {
      "application/vnd.jupyter.widget-view+json": {
       "model_id": "6e23e92908ab45fbbb818a1aeaaa84c4",
       "version_major": 2,
       "version_minor": 0
      },
      "text/plain": [
       "Output()"
      ]
     },
     "metadata": {},
     "output_type": "display_data"
    }
   ],
   "source": [
    "ui_client = rospy.ServiceProxy('/user_interface', Command)\n",
    "\n",
    "button_start = widgets.Button(description=\"start\",layout=Layout(width='auto'))\n",
    "button_stop = widgets.Button(description=\"stop when target reached\",layout=Layout(width='auto'))\n",
    "button_stop_now = widgets.Button(description=\"stop now\",layout=Layout(width='auto'))\n",
    "output = widgets.Output()\n",
    "display(button_start,button_stop,button_stop_now,output)\n",
    "\n",
    "#handle changes, the observe method of the widget can be used to register a callback.\n",
    "def on_button_start_clicked(b):\n",
    "    with output:\n",
    "        print(\"Starting the robot.\")\n",
    "        ui_client(\"start\")\n",
    "def on_button_stop_clicked(b):\n",
    "    with output:\n",
    "        print(\"Robot will stop when target reached.\")\n",
    "        ui_client(\"stop\")\n",
    "def on_button_stop_now_clicked(b):\n",
    "    with output:\n",
    "        print(\"Robot stopped.\")    \n",
    "        ui_client(\"stop_now\")\n",
    "        \n",
    "button_start.on_click(on_button_start_clicked)\n",
    "button_stop.on_click(on_button_stop_clicked)\n",
    "button_stop_now.on_click(on_button_stop_now_clicked)"
   ]
  },
  {
   "cell_type": "code",
   "execution_count": 4,
   "id": "d40a1ac7-8a21-4c0e-a225-1f64a07a0dc2",
   "metadata": {},
   "outputs": [
    {
     "data": {
      "application/vnd.jupyter.widget-view+json": {
       "model_id": "bdab0a4ea286467999fe70bfe1fed3fe",
       "version_major": 2,
       "version_minor": 0
      },
      "text/plain": [
       "Button(description='forward', layout=Layout(width='auto'), style=ButtonStyle())"
      ]
     },
     "metadata": {},
     "output_type": "display_data"
    },
    {
     "data": {
      "application/vnd.jupyter.widget-view+json": {
       "model_id": "7e817659245e4d6eab064f93e8657775",
       "version_major": 2,
       "version_minor": 0
      },
      "text/plain": [
       "Button(description='turn right', layout=Layout(width='auto'), style=ButtonStyle())"
      ]
     },
     "metadata": {},
     "output_type": "display_data"
    },
    {
     "data": {
      "application/vnd.jupyter.widget-view+json": {
       "model_id": "c41ae0c615524aa09cd2ae14619c9a74",
       "version_major": 2,
       "version_minor": 0
      },
      "text/plain": [
       "Button(description='turn left', layout=Layout(width='auto'), style=ButtonStyle())"
      ]
     },
     "metadata": {},
     "output_type": "display_data"
    },
    {
     "data": {
      "application/vnd.jupyter.widget-view+json": {
       "model_id": "957d69ebb02a46b38fe45cab0a22d7e6",
       "version_major": 2,
       "version_minor": 0
      },
      "text/plain": [
       "Button(description='backward', layout=Layout(width='auto'), style=ButtonStyle())"
      ]
     },
     "metadata": {},
     "output_type": "display_data"
    },
    {
     "data": {
      "application/vnd.jupyter.widget-view+json": {
       "model_id": "56473d7f86064d47acd199b6b3667fdd",
       "version_major": 2,
       "version_minor": 0
      },
      "text/plain": [
       "Button(description='stop', layout=Layout(width='auto'), style=ButtonStyle())"
      ]
     },
     "metadata": {},
     "output_type": "display_data"
    },
    {
     "data": {
      "application/vnd.jupyter.widget-view+json": {
       "model_id": "f675c1e126c1484ab7afca39241381e4",
       "version_major": 2,
       "version_minor": 0
      },
      "text/plain": [
       "Output()"
      ]
     },
     "metadata": {},
     "output_type": "display_data"
    }
   ],
   "source": [
    "\n",
    "cmd_vel_msg = Twist()\n",
    "cmd_vel_msg.linear.x=0\n",
    "cmd_vel_msg.angular.z=0\n",
    "\n",
    "cmd_vel_pub = rospy.Publisher('cmd_vel', Twist, queue_size=10)\n",
    "\n",
    "forward = widgets.Button(description=\"forward\",layout=Layout(width='auto'))\n",
    "turn_right = widgets.Button(description=\"turn right\",layout=Layout(width='auto'))\n",
    "turn_left = widgets.Button(description=\"turn left\",layout=Layout(width='auto'))\n",
    "backward = widgets.Button(description=\"backward\",layout=Layout(width='auto'))\n",
    "stop = widgets.Button(description=\"stop\",layout=Layout(width='auto'))\n",
    "output = widgets.Output()\n",
    "display(forward,turn_right,turn_left,backward,stop,output)\n",
    "\n",
    "#handle changes, the observe method of the widget can be used to register a callback.\n",
    "def on_button_forward_clicked(b):\n",
    "    with output:\n",
    "        global cmd_vel_msg,x_linear,z_angular,ui_client\n",
    "        ui_client(\"stop_now\")\n",
    "        print(\"going straight forward.\")\n",
    "        cmd_vel_msg.linear.x=x_linear\n",
    "        cmd_vel_msg.angular.z=0\n",
    "        cmd_vel_pub.publish(cmd_vel_msg)\n",
    "                           \n",
    "def on_button_backward_clicked(b):\n",
    "    with output:\n",
    "        global cmd_vel_msg,x_linear,z_angular,ui_client\n",
    "        ui_client(\"stop_now\")\n",
    "        print(\"going straight backward.\")\n",
    "        cmd_vel_msg.linear.x=-x_linear\n",
    "        cmd_vel_msg.angular.z=0\n",
    "        cmd_vel_pub.publish(cmd_vel_msg)                           \n",
    "\n",
    "def on_button_turn_left_clicked(b):\n",
    "    with output:\n",
    "        global cmd_vel_msg,x_linear,z_angular,ui_client\n",
    "        ui_client(\"stop_now\")\n",
    "        print(\"turning left.\")\n",
    "        cmd_vel_msg.linear.x=0\n",
    "        cmd_vel_msg.angular.z=-z_angular\n",
    "        cmd_vel_pub.publish(cmd_vel_msg) \n",
    "                           \n",
    "def on_button_turn_right_clicked(b):\n",
    "    with output:\n",
    "        global cmd_vel_msg,x_linear,z_angular,ui_client\n",
    "        ui_client(\"stop_now\")\n",
    "        print(\"turning right.\")\n",
    "        cmd_vel_msg.linear.x=0\n",
    "        cmd_vel_msg.angular.z=z_angular\n",
    "        cmd_vel_pub.publish(cmd_vel_msg)                          \n",
    "        \n",
    "def on_button_stop_clicked(b):\n",
    "    with output:\n",
    "        global cmd_vel_msg,x_linear,z_angular,ui_client\n",
    "        ui_client(\"stop_now\")\n",
    "        print(\"turning right.\")\n",
    "        cmd_vel_msg.linear.x=0\n",
    "        cmd_vel_msg.angular.z=0\n",
    "        cmd_vel_pub.publish(cmd_vel_msg)\n",
    "        \n",
    "forward.on_click(on_button_forward_clicked)\n",
    "backward.on_click(on_button_backward_clicked)\n",
    "turn_left.on_click(on_button_turn_left_clicked)\n",
    "turn_right.on_click(on_button_turn_right_clicked)  \n",
    "stop.on_click(on_button_stop_clicked)  \n"
   ]
  },
  {
   "cell_type": "code",
   "execution_count": null,
   "id": "b13a4fbf-d8b9-4028-baa9-7d0c9b870084",
   "metadata": {},
   "outputs": [],
   "source": []
  }
 ],
 "metadata": {
  "kernelspec": {
   "display_name": "Python 3",
   "language": "python",
   "name": "python3"
  },
  "language_info": {
   "codemirror_mode": {
    "name": "ipython",
    "version": 3
   },
   "file_extension": ".py",
   "mimetype": "text/x-python",
   "name": "python",
   "nbconvert_exporter": "python",
   "pygments_lexer": "ipython3",
   "version": "3.8.5"
  }
 },
 "nbformat": 4,
 "nbformat_minor": 5
}
