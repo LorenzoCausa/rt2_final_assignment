{
 "cells": [
  {
   "cell_type": "markdown",
   "id": "99b7893d-d3fe-45c9-8a78-5ad552edec43",
   "metadata": {},
   "source": [
    "# Research track2 final assignment"
   ]
  },
  {
   "cell_type": "markdown",
   "id": "e16dd8e5-4b6d-4149-a7ad-4a93e0ac6e46",
   "metadata": {},
   "source": [
    "## Initialization of the program"
   ]
  },
  {
   "cell_type": "code",
   "execution_count": 1,
   "id": "66fb3c9d-39db-458a-800e-38fe21cb730b",
   "metadata": {
    "jupyter": {
     "source_hidden": true
    },
    "tags": []
   },
   "outputs": [],
   "source": [
    "%matplotlib widget\n",
    "%matplotlib inline\n",
    "import numpy as np\n",
    "import matplotlib.pyplot as plt\n",
    "import jupyros as jr\n",
    "import rospy\n",
    "from nav_msgs.msg import Odometry\n",
    "from matplotlib import animation, rc\n",
    "from geometry_msgs.msg import Twist\n",
    "import ipywidgets as widgets\n",
    "from IPython.display import display\n",
    "from ipywidgets import Button, Layout, ButtonStyle, GridBox, VBox, HBox\n",
    "import time\n",
    "import actionlib\n",
    "import math\n",
    "from rt2_assignment1.srv import Command\n",
    "from rt2_assignment1.msg import go_to_pointActionResult,go_to_pointActionGoal\n",
    "\n",
    "def rad_to_grad( rad):\n",
    "    return rad*180/3.1415\n",
    "\n",
    "def euler_from_quaternion(x, y, z, w):\n",
    "        \"\"\"\n",
    "        Convert a quaternion into euler angles (roll, pitch, yaw)\n",
    "        roll is rotation around x in radians (counterclockwise)\n",
    "        pitch is rotation around y in radians (counterclockwise)\n",
    "        yaw is rotation around z in radians (counterclockwise)\n",
    "        \"\"\"\n",
    "        t0 = +2.0 * (w * x + y * z)\n",
    "        t1 = +1.0 - 2.0 * (x * x + y * y)\n",
    "        roll_x = (math.atan2(t0, t1))\n",
    "     \n",
    "        t2 = +2.0 * (w * y - z * x)\n",
    "        t2 = +1.0 if t2 > +1.0 else t2\n",
    "        t2 = -1.0 if t2 < -1.0 else t2\n",
    "        pitch_y = (math.asin(t2))\n",
    "     \n",
    "        t3 = +2.0 * (w * z + x * y)\n",
    "        t4 = +1.0 - 2.0 * (y * y + z * z)\n",
    "        yaw_z =( math.atan2(t3, t4))\n",
    "     \n",
    "        return roll_x, pitch_y, yaw_z # in radians\n",
    "    \n",
    "rospy.init_node('robot_control_node')\n"
   ]
  },
  {
   "cell_type": "markdown",
   "id": "1ebd7b01-e89d-4326-942b-3f29896bf766",
   "metadata": {},
   "source": [
    "## Creation of 2 sliders to control the linear and angular speed of the robotCreation of 2 sliders to control the linear and angular speed of the robot"
   ]
  },
  {
   "cell_type": "code",
   "execution_count": 2,
   "id": "362b4754-046e-4bbe-804a-efd921f75454",
   "metadata": {
    "jupyter": {
     "source_hidden": true
    },
    "tags": []
   },
   "outputs": [
    {
     "data": {
      "application/vnd.jupyter.widget-view+json": {
       "model_id": "b2fb4f8513954a8c80f6a0d27545ab46",
       "version_major": 2,
       "version_minor": 0
      },
      "text/plain": [
       "FloatSlider(value=0.3, description='linear', max=1.0, min=0.3)"
      ]
     },
     "metadata": {},
     "output_type": "display_data"
    },
    {
     "data": {
      "application/vnd.jupyter.widget-view+json": {
       "model_id": "0d5f575ca6b2485399dea9973a4d0f66",
       "version_major": 2,
       "version_minor": 0
      },
      "text/plain": [
       "FloatSlider(value=0.5, description='angular', max=1.0, min=0.5)"
      ]
     },
     "metadata": {},
     "output_type": "display_data"
    }
   ],
   "source": [
    "\n",
    "x_linear=0.3\n",
    "z_angular=0.5\n",
    "\n",
    "a = widgets.FloatSlider(min=0.3, max=1.0, description=\"linear\")\n",
    "display(a)\n",
    "\n",
    "b = widgets.FloatSlider(min=0.5, max=1.0, description=\"angular\")\n",
    "display(b)\n",
    "\n",
    "velocities_pub = rospy.Publisher('velocities', Twist, queue_size=10)\n",
    "velocities_msg = Twist()\n",
    "velocities_msg.linear.x=x_linear\n",
    "velocities_msg.angular.z=z_angular\n",
    "\n",
    "def on_value_change(change):\n",
    "    \"\"\"Callback for when the slider of the linear velocity is changed, it updates the variable x_linear\"\"\"\n",
    "    global x_linear,velocities_msg\n",
    "    x_linear= change['new']\n",
    "    velocities_msg.linear.x = change['new']\n",
    "    velocities_pub.publish(velocities_msg)\n",
    "    \n",
    "    \n",
    "def on_valueang_change(change): \n",
    "    \"\"\"Callback for when the slider of the angular velocity is changed, it updates the variable z_linear\"\"\"\n",
    "    global z_angular,velocities_msg\n",
    "    z_angular= change['new']\n",
    "    velocities_msg.angular.z = change['new']\n",
    "    velocities_pub.publish(velocities_msg)\n",
    "\n",
    "a.observe(on_value_change, names='value')\n",
    "b.observe(on_valueang_change, names='value')"
   ]
  },
  {
   "cell_type": "markdown",
   "id": "68c4aff1-b800-4b0c-bc14-c9c929079adf",
   "metadata": {},
   "source": [
    "## Buttons for start/stop random target behavior"
   ]
  },
  {
   "cell_type": "code",
   "execution_count": 3,
   "id": "9ecb4c5d-3049-414a-96f8-473bcdb98b5d",
   "metadata": {
    "jupyter": {
     "source_hidden": true
    },
    "tags": []
   },
   "outputs": [
    {
     "data": {
      "application/vnd.jupyter.widget-view+json": {
       "model_id": "3f766e62792545de90b4d1268abbba05",
       "version_major": 2,
       "version_minor": 0
      },
      "text/plain": [
       "Button(description='start', layout=Layout(width='auto'), style=ButtonStyle())"
      ]
     },
     "metadata": {},
     "output_type": "display_data"
    },
    {
     "data": {
      "application/vnd.jupyter.widget-view+json": {
       "model_id": "b26338347c484779ac34e0989b2a5c32",
       "version_major": 2,
       "version_minor": 0
      },
      "text/plain": [
       "Button(description='stop when target reached', layout=Layout(width='auto'), style=ButtonStyle())"
      ]
     },
     "metadata": {},
     "output_type": "display_data"
    },
    {
     "data": {
      "application/vnd.jupyter.widget-view+json": {
       "model_id": "bb0d43759e384f7d8e88541e4d71cf1b",
       "version_major": 2,
       "version_minor": 0
      },
      "text/plain": [
       "Button(description='stop now', layout=Layout(width='auto'), style=ButtonStyle())"
      ]
     },
     "metadata": {},
     "output_type": "display_data"
    }
   ],
   "source": [
    "ui_client = rospy.ServiceProxy('/user_interface', Command)\n",
    "\n",
    "button_start = widgets.Button(description=\"start\",layout=Layout(width='auto'))\n",
    "button_stop = widgets.Button(description=\"stop when target reached\",layout=Layout(width='auto'))\n",
    "button_stop_now = widgets.Button(description=\"stop now\",layout=Layout(width='auto'))\n",
    "output = widgets.Output()\n",
    "display(button_start,button_stop,button_stop_now)\n",
    "\n",
    "#handle changes, the observe method of the widget can be used to register a callback.\n",
    "def on_button_start_clicked(b):\n",
    "    \"\"\"Callback for when the button start is pressed, it sends a request to the /user_interface service\"\"\"\n",
    "    with output:\n",
    "        print(\"Robot started.\")\n",
    "        ui_client(\"start\")\n",
    "def on_button_stop_clicked(b):\n",
    "    \"\"\"Callback for when the button stop is pressed, it sends a request to the /user_interface service\"\"\"\n",
    "    with output:\n",
    "        print(\"Robot will stop when target reached.\")\n",
    "        ui_client(\"stop\")\n",
    "def on_button_stop_now_clicked(b):\n",
    "    \"\"\"Callback for when the button stop now is pressed, it sends a request to the /user_interface service\"\"\"\n",
    "    with output:\n",
    "        print(\"Robot stopped.\")    \n",
    "        ui_client(\"stop_now\")\n",
    "        \n",
    "button_start.on_click(on_button_start_clicked)\n",
    "button_stop.on_click(on_button_stop_clicked)\n",
    "button_stop_now.on_click(on_button_stop_now_clicked)"
   ]
  },
  {
   "cell_type": "markdown",
   "id": "8aa325bc-d364-4267-87ec-2c9c516707d5",
   "metadata": {},
   "source": [
    "## Buttons for direct robot control"
   ]
  },
  {
   "cell_type": "code",
   "execution_count": 4,
   "id": "d40a1ac7-8a21-4c0e-a225-1f64a07a0dc2",
   "metadata": {
    "jupyter": {
     "source_hidden": true
    }
   },
   "outputs": [
    {
     "data": {
      "application/vnd.jupyter.widget-view+json": {
       "model_id": "4a4ae2e0003948669c2351117e1a04b0",
       "version_major": 2,
       "version_minor": 0
      },
      "text/plain": [
       "VBox(children=(Button(description='forward', layout=Layout(width='default'), style=ButtonStyle(button_color='l…"
      ]
     },
     "metadata": {},
     "output_type": "display_data"
    }
   ],
   "source": [
    "\n",
    "cmd_vel_msg = Twist()\n",
    "cmd_vel_msg.linear.x=0\n",
    "cmd_vel_msg.angular.z=0\n",
    "\n",
    "cmd_vel_pub = rospy.Publisher('cmd_vel', Twist, queue_size=10)\n",
    "\n",
    "forward = widgets.Button(description=\"forward\",layout=Layout(width='default'),align=\"center\",style=ButtonStyle(button_color='lightgreen'))\n",
    "turn_right = widgets.Button(description=\"turn right\",layout=Layout(width='auto'),style=ButtonStyle(button_color='moccasin'))\n",
    "turn_left = widgets.Button(description=\"turn left\",layout=Layout(width='auto'),style=ButtonStyle(button_color='moccasin'))\n",
    "backward = widgets.Button(description=\"backward\",layout=Layout(width='default'),align=\"center\",style=ButtonStyle(button_color='gold'))\n",
    "stop = widgets.Button(description=\"stop\",layout=Layout(width='default'),style=ButtonStyle(button_color='salmon'))\n",
    "output = widgets.Output()\n",
    "#display(forward,turn_right,turn_left,backward,stop,output)\n",
    "\n",
    "#handle changes, the observe method of the widget can be used to register a callback.\n",
    "def on_button_forward_clicked(b):\n",
    "    \"\"\"Callback for when the button forward is pressed, it sends publish to the /cmd_vel topic\"\"\"\n",
    "    with output:\n",
    "        global cmd_vel_msg,x_linear,z_angular,ui_client\n",
    "        ui_client(\"stop_now\")\n",
    "        time.sleep(1/20)                  # the ui_client cancel the goal and stops the robot by publishing zero velocities in cmd_vel,\n",
    "        print(\"going straight forward.\")  # we need to wait some time in order to be sure to publish the new velocities after that\n",
    "        cmd_vel_msg.linear.x=x_linear\n",
    "        cmd_vel_msg.angular.z=0\n",
    "        cmd_vel_pub.publish(cmd_vel_msg)\n",
    "                           \n",
    "def on_button_backward_clicked(b):\n",
    "    \"\"\"Callback for when the button backward is pressed, it sends publish to the /cmd_vel topic\"\"\"\n",
    "    with output:\n",
    "        global cmd_vel_msg,x_linear,z_angular,ui_client\n",
    "        ui_client(\"stop_now\")\n",
    "        time.sleep(1/20)                    # the ui_client cancel the goal and stops the robot by publishing zero velocities in cmd_vel,\n",
    "        print(\"going straight backward.\")   # we need to wait some time in order to be sure to publish the new velocities after that\n",
    "        cmd_vel_msg.linear.x=-x_linear\n",
    "        cmd_vel_msg.angular.z=0\n",
    "        cmd_vel_pub.publish(cmd_vel_msg)                           \n",
    "\n",
    "def on_button_turn_left_clicked(b):\n",
    "    \"\"\"Callback for when the button turn left is pressed, it sends publish to the /cmd_vel topic\"\"\"\n",
    "    with output:\n",
    "        global cmd_vel_msg,x_linear,z_angular,ui_client\n",
    "        ui_client(\"stop_now\")\n",
    "        time.sleep(1/20)                   # the ui_client cancel the goal and stops the robot by publishing zero velocities in cmd_vel, \n",
    "        print(\"turning left.\")             # we need to wait some time in order to be sure to publish the new velocities after that\n",
    "        cmd_vel_msg.linear.x=0\n",
    "        cmd_vel_msg.angular.z=-z_angular\n",
    "        cmd_vel_pub.publish(cmd_vel_msg) \n",
    "                           \n",
    "def on_button_turn_right_clicked(b):\n",
    "    \"\"\"Callback for when the button turn right is pressed, it sends publish to the /cmd_vel topic\"\"\"\n",
    "    with output:\n",
    "        global cmd_vel_msg,x_linear,z_angular,ui_client\n",
    "        ui_client(\"stop_now\")\n",
    "        time.sleep(1/20)                   # the ui_client cancel the goal and stops the robot by publishing zero velocities in cmd_vel, \n",
    "        print(\"turning right.\")            # we need to wait some time in order to be sure to publish the new velocities after that\n",
    "        cmd_vel_msg.linear.x=0\n",
    "        cmd_vel_msg.angular.z=z_angular\n",
    "        cmd_vel_pub.publish(cmd_vel_msg)                          \n",
    "        \n",
    "def on_button_stop_clicked(b):\n",
    "    \"\"\"Callback for when the button stop is pressed, it sends publish to the /cmd_vel topic\"\"\"\n",
    "    with output:\n",
    "        global cmd_vel_msg,x_linear,z_angular,ui_client\n",
    "        ui_client(\"stop_now\")\n",
    "        time.sleep(1/20)                  # the ui_client cancel the goal and stops the robot by publishing zero velocities in cmd_vel \n",
    "        print(\"robot stopped.\")           # we need to wait some time in order to be sure to publish the new velocities after that\n",
    "        cmd_vel_msg.linear.x=0\n",
    "        cmd_vel_msg.angular.z=0\n",
    "        cmd_vel_pub.publish(cmd_vel_msg)\n",
    "        \n",
    "forward.on_click(on_button_forward_clicked)\n",
    "backward.on_click(on_button_backward_clicked)\n",
    "turn_left.on_click(on_button_turn_left_clicked)\n",
    "turn_right.on_click(on_button_turn_right_clicked)  \n",
    "stop.on_click(on_button_stop_clicked)  \n",
    "\n",
    "VBox([forward,HBox([turn_left,turn_right]),backward,stop])"
   ]
  },
  {
   "cell_type": "markdown",
   "id": "4d1d34a4-3e1f-42ce-938c-835c1143587c",
   "metadata": {},
   "source": [
    "## cmd velocities VS real velocities"
   ]
  },
  {
   "cell_type": "code",
   "execution_count": 5,
   "id": "d066fa4e-8520-4ce4-89dd-89d170ba055d",
   "metadata": {
    "jupyter": {
     "source_hidden": true
    }
   },
   "outputs": [
    {
     "data": {
      "image/png": "[encoded data removed]",
      "text/plain": [
       "<Figure size 432x288 with 1 Axes>"
      ]
     },
     "metadata": {
      "needs_background": "light"
     },
     "output_type": "display_data"
    }
   ],
   "source": [
    "fig, ax = plt.subplots()\n",
    "x_coord=0\n",
    "y_coord=0\n",
    "theta=[0,0,0]\n",
    "\n",
    "x_lin=0\n",
    "z_ang=0\n",
    "real_x_lin=0\n",
    "real_z_ang=0\n",
    "x_lin_cmd_vel, = ax.plot([], [], 'ro',label='x_lin cmd_vel',linestyle = '-',markersize=1,marker = ',')\n",
    "z_ang_cmd_vel, = ax.plot([], [], 'ro',label='z_ang cmd_vel',color = 'blue',linestyle = '-',markersize=1,marker = ',')\n",
    "x_lin_real, = ax.plot([], [], 'ro',label='Real x_lin ',color = 'green',linestyle = '-',markersize=1,marker = ',')\n",
    "z_ang_real, = ax.plot([], [], 'ro',label='Real z_ang ',color = 'orange',linestyle = '-',markersize=1,marker = ',')\n",
    "ax.axis([0, 10,-2,2])\n",
    "tick=time.time()\n",
    "x_data=[]\n",
    "x_lin_cmd_vel_data=[]\n",
    "z_ang_cmd_vel_data=[]\n",
    "x_lin_real_data=[]\n",
    "z_ang_real_data=[]\n",
    "ax.set_xlabel('time')  # Add an x-label to the axes.\n",
    "ax.set_title(\"velocities\")  # Add a title to the axes.\n",
    "ax.legend()  # Add a legend.\n",
    "ax.grid()\n",
    "\n",
    "def init():\n",
    "    x_lin_cmd_vel.set_data([], [])\n",
    "    z_ang_cmd_vel.set_data([], [])\n",
    "    x_lin_real.set_data([], [])\n",
    "    z_ang_real.set_data([], [])\n",
    "    return (x_lin_cmd_vel,z_ang_cmd_vel,x_lin_real,z_ang_real)\n",
    "\n",
    "\n",
    "def cmd_callback(msg):\n",
    "    global x_lin,z_ang\n",
    "    x_lin=msg.linear.x\n",
    "    z_ang=msg.angular.z\n",
    "    \n",
    "def odom_callback(msg):\n",
    "    global real_x_lin,real_z_ang,x_coord,y_coord,theta\n",
    "    real_x_lin=msg.twist.twist.linear.x\n",
    "    real_z_ang=-2*msg.twist.twist.angular.z\n",
    "    x_coord=msg.pose.pose.position.x\n",
    "    y_coord=msg.pose.pose.position.y\n",
    "    theta=euler_from_quaternion( msg.pose.pose.orientation.x,msg.pose.pose.orientation.y,msg.pose.pose.orientation.z,msg.pose.pose.orientation.w)\n",
    "    \n",
    "def animate(i):\n",
    "    global tick\n",
    "    x_lin_cmd_vel_data.append(x_lin)\n",
    "    z_ang_cmd_vel_data.append(z_ang)\n",
    "    x_lin_real_data.append(real_x_lin)\n",
    "    z_ang_real_data.append(real_z_ang)\n",
    "    x_data.append(time.time()-tick)\n",
    "    x_lin_cmd_vel.set_data(x_data, x_lin_cmd_vel_data)\n",
    "    z_ang_cmd_vel.set_data(x_data, z_ang_cmd_vel_data)\n",
    "    x_lin_real.set_data([x_data], [x_lin_real_data])\n",
    "    z_ang_real.set_data([x_data], [z_ang_real_data])\n",
    "    \n",
    "    if x_data[len(x_data)-1]>9 :\n",
    "        ax.axis([x_data[len(x_data)-1]-9, x_data[len(x_data)-1]+1,-2,2])   \n",
    "        x_lin_cmd_vel_data.pop(0)\n",
    "        z_ang_cmd_vel_data.pop(0)\n",
    "        x_lin_real_data.pop(0)\n",
    "        z_ang_real_data.pop(0)\n",
    "        x_data.pop(0)\n",
    "        \n",
    "    return (x_lin_cmd_vel,z_ang_cmd_vel,x_lin_real,z_ang_real)\n",
    "\n",
    "#jr.subscribe('/cmd_vel', Twist, cmd_callback)\n",
    "rospy.Subscriber('/cmd_vel', Twist, cmd_callback)\n",
    "rospy.Subscriber('/odom', Odometry, odom_callback)\n",
    "anim = animation.FuncAnimation(fig, animate, init_func=init, blit=True,interval=100)"
   ]
  },
  {
   "cell_type": "markdown",
   "id": "3dc14f62-cc66-4d9a-8775-1bebfb541592",
   "metadata": {},
   "source": [
    "## Boxplot+Histogram to rappresent time to reach targets and barplot for rappresent number of target reached/preempted"
   ]
  },
  {
   "cell_type": "code",
   "execution_count": 6,
   "id": "8ddfd1aa-5f07-44a0-9c1d-48034498d388",
   "metadata": {
    "jupyter": {
     "source_hidden": true
    },
    "tags": []
   },
   "outputs": [
    {
     "data": {
      "application/vnd.jupyter.widget-view+json": {
       "model_id": "0038fe6ce67f4ebaa405f10842a04493",
       "version_major": 2,
       "version_minor": 0
      },
      "text/plain": [
       "VBox(children=(HBox(children=(Button(description='Stop', style=ButtonStyle()),)), Output(layout=Layout(border=…"
      ]
     },
     "metadata": {},
     "output_type": "display_data"
    },
    {
     "data": {
      "image/png": "[encoded data removed]",
      "text/plain": [
       "<Figure size 432x288 with 1 Axes>"
      ]
     },
     "metadata": {
      "needs_background": "light"
     },
     "output_type": "display_data"
    },
    {
     "data": {
      "image/png": "[encoded data removed]",
      "text/plain": [
       "<Figure size 432x288 with 1 Axes>"
      ]
     },
     "metadata": {
      "needs_background": "light"
     },
     "output_type": "display_data"
    },
    {
     "data": {
      "image/png": "[encoded data removed]",
      "text/plain": [
       "<Figure size 432x288 with 1 Axes>"
      ]
     },
     "metadata": {
      "needs_background": "light"
     },
     "output_type": "display_data"
    }
   ],
   "source": [
    "N_succ=0\n",
    "N_preempt=0\n",
    "T_succ=[]\n",
    "T_start=time.time()\n",
    "\n",
    "fig1, ax1 = plt.subplots()\n",
    "ax1.set_title('Time to reach the goal(Boxplot)')\n",
    "ax1.boxplot(T_succ)\n",
    "\n",
    "fig4, ax4 = plt.subplots()\n",
    "ax4.set_title('Time to reach the goal(Histogram)')\n",
    "\n",
    "fig2, ax2 = plt.subplots()\n",
    "ax2.set_title('Target reached vs Target preempted')\n",
    "\n",
    "\n",
    "def result_callback(msg):\n",
    "    global N_succ,N_preempt,T_start,T_succ\n",
    "    \n",
    "    if msg.status.status==2:\n",
    "        N_preempt=N_preempt+1\n",
    "        ax2.clear()\n",
    "        ax2.bar(['N_succ','N_preempted'],[N_succ,N_preempt],width=0.2,alpha=0.80,color='green')\n",
    "        \n",
    "    if msg.status.status==3:\n",
    "        N_succ=N_succ+1   \n",
    "        T_succ.append(time.time()-T_start)\n",
    "        ax2.clear()\n",
    "        ax2.set_title('Target reached vs Target preempted')\n",
    "        ax2.bar(['N_succ','N_preempted'],[N_succ,N_preempt],width=0.2,alpha=0.80,color='green')\n",
    "        \n",
    "        ax4.clear()\n",
    "        ax4.set_title('Time to reach the goal (Histogram)')\n",
    "        ax4.hist(T_succ,10)\n",
    "        \n",
    "        if N_succ>1:\n",
    "            ax1.clear()\n",
    "            ax1.set_title('Time to reach the goal(Boxplot)')\n",
    "            ax1.boxplot(T_succ)\n",
    "        \n",
    "def goal_callback(msg):   \n",
    "    global T_start\n",
    "    T_start=time.time()\n",
    "    \n",
    "jr.subscribe('/go_to_point/result', go_to_pointActionResult, result_callback)\n",
    "jr.subscribe('/go_to_point/goal', go_to_pointActionGoal, goal_callback)\n",
    "\n"
   ]
  },
  {
   "cell_type": "markdown",
   "id": "f4f98d4f-4160-4f0f-b815-58f257d42300",
   "metadata": {},
   "source": [
    "## Path of the robot"
   ]
  },
  {
   "cell_type": "code",
   "execution_count": 7,
   "id": "6634c38a-2af6-4eaf-b3cb-302e90c682f9",
   "metadata": {
    "jupyter": {
     "source_hidden": true
    },
    "tags": []
   },
   "outputs": [
    {
     "data": {
      "image/png": "[encoded data removed]",
      "text/plain": [
       "<Figure size 432x288 with 1 Axes>"
      ]
     },
     "metadata": {
      "needs_background": "light"
     },
     "output_type": "display_data"
    }
   ],
   "source": [
    "fig3, ax3 = plt.subplots()\n",
    "\n",
    "ax3.set_xlim(( -10, 10))\n",
    "ax3.set_ylim((-10, 10))\n",
    "ax3.set_xlabel('x')  # Add an x-label to the axes.\n",
    "ax3.set_ylabel('y')  # Add an y-label to the axes.\n",
    "ax3.set_title(\"Robot movements\")  # Add a title to the axes.\n",
    "ax3.grid()\n",
    "\n",
    "line, = ax3.plot([], [], 'ro',label='trajectory',linestyle = '-',markersize=4,marker = ',')\n",
    "orientation, =ax3.plot([], [], 'ro',label='orientation',markersize=4,marker = 'x',color='blue')\n",
    "robot, =ax3.plot([], [], 'ro',label='robot',markersize=4,marker = 'o',color='blue')\n",
    "ax3.legend()  # Add a legend.\n",
    "\n",
    "x_elements=[]\n",
    "y_elements=[]\n",
    "\n",
    "def init1():\n",
    "    line.set_data([], [])\n",
    "    orientation.set_data([],[])\n",
    "    robot.set_data([],[])\n",
    "    return (line,orientation,robot)\n",
    "\n",
    "def animate1(i):\n",
    "    x_elements.append(x_coord)\n",
    "    y_elements.append(y_coord)\n",
    "    line.set_data(x_elements, y_elements)\n",
    "    orientation.set_data(x_elements[len(x_elements)-1]+math.cos(theta[2]),y_elements[len(y_elements)-1]+math.sin(theta[2]))\n",
    "    robot.set_data(x_elements[len(x_elements)-1],y_elements[len(y_elements)-1])\n",
    "    return (line,orientation,robot)\n",
    "\n",
    "\n",
    "anim1 = animation.FuncAnimation(fig3, animate1, init_func=init1,interval=100, blit=True)"
   ]
  },
  {
   "cell_type": "markdown",
   "id": "40874e60-6a18-41c8-a982-9d3523d1b56c",
   "metadata": {},
   "source": [
    "## Outputs"
   ]
  },
  {
   "cell_type": "code",
   "execution_count": 8,
   "id": "42819d17-d5f6-421a-a85f-f0585574efa6",
   "metadata": {
    "jupyter": {
     "source_hidden": true
    },
    "tags": []
   },
   "outputs": [
    {
     "data": {
      "application/vnd.jupyter.widget-view+json": {
       "model_id": "f05cae17fc2d49e5ac9a6128ee5f6d00",
       "version_major": 2,
       "version_minor": 0
      },
      "text/plain": [
       "Output()"
      ]
     },
     "metadata": {},
     "output_type": "display_data"
    }
   ],
   "source": [
    "output"
   ]
  }
 ],
 "metadata": {
  "celltoolbar": "Edit Metadata",
  "kernelspec": {
   "display_name": "Python 3",
   "language": "python",
   "name": "python3"
  },
  "language_info": {
   "codemirror_mode": {
    "name": "ipython",
    "version": 3
   },
   "file_extension": ".py",
   "mimetype": "text/x-python",
   "name": "python",
   "nbconvert_exporter": "python",
   "pygments_lexer": "ipython3",
   "version": "3.8.5"
  }
 },
 "nbformat": 4,
 "nbformat_minor": 5
}
