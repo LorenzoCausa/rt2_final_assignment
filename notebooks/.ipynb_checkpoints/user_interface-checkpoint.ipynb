{
 "cells": [
  {
   "cell_type": "code",
   "execution_count": 1,
   "id": "30bb017f-fb88-4762-b53a-7f136a14b166",
   "metadata": {},
   "outputs": [],
   "source": [
    "%matplotlib widget\n",
    "import numpy as np\n",
    "import matplotlib.pyplot as plt\n",
    "import jupyros as jr\n",
    "import rospy\n",
    "from nav_msgs.msg import Odometry\n",
    "from matplotlib import animation, rc\n",
    "from geometry_msgs.msg import Twist\n",
    "import ipywidgets as widgets\n",
    "from IPython.display import display\n",
    "from rt2_assignment1.srv import Command\n",
    "from ipywidgets import Button, Layout, ButtonStyle, GridBox, VBox, HBox\n",
    "import ipywidgets as widgets\n",
    "import time\n",
    "from matplotlib import animation, rc\n",
    "import actionlib\n",
    "from rt2_assignment1.msg import go_to_pointActionResult,go_to_pointActionGoal\n",
    "\n",
    "\n",
    "rospy.init_node('robot_control_node')\n",
    "\n"
   ]
  },
  {
   "cell_type": "code",
   "execution_count": 2,
   "id": "362b4754-046e-4bbe-804a-efd921f75454",
   "metadata": {},
   "outputs": [
    {
     "data": {
      "application/vnd.jupyter.widget-view+json": {
       "model_id": "74613d63bf4d44dcb5428315ed825aa2",
       "version_major": 2,
       "version_minor": 0
      },
      "text/plain": [
       "FloatSlider(value=0.3, description='linear', max=1.0, min=0.3)"
      ]
     },
     "metadata": {},
     "output_type": "display_data"
    },
    {
     "data": {
      "application/vnd.jupyter.widget-view+json": {
       "model_id": "906a9f058f144119a68bd1748990d30d",
       "version_major": 2,
       "version_minor": 0
      },
      "text/plain": [
       "FloatSlider(value=0.5, description='angular', max=1.0, min=0.5)"
      ]
     },
     "metadata": {},
     "output_type": "display_data"
    }
   ],
   "source": [
    "\n",
    "x_linear=0.3\n",
    "z_angular=0.5\n",
    "\n",
    "a = widgets.FloatSlider(min=0.3, max=1.0, description=\"linear\")\n",
    "display(a)\n",
    "\n",
    "b = widgets.FloatSlider(min=0.5, max=1.0, description=\"angular\")\n",
    "display(b)\n",
    "\n",
    "velocities_pub = rospy.Publisher('velocities', Twist, queue_size=10)\n",
    "velocities_msg = Twist()\n",
    "velocities_msg.linear.x=x_linear\n",
    "velocities_msg.angular.z=z_angular\n",
    "\n",
    "def on_value_change(change):\n",
    "    \"\"\"Callback for when the slider of the linear velocity is changed, it updates the variable x_linear\"\"\"\n",
    "    global x_linear,velocities_msg\n",
    "    x_linear= change['new']\n",
    "    velocities_msg.linear.x = change['new']\n",
    "    velocities_pub.publish(velocities_msg)\n",
    "    \n",
    "    \n",
    "def on_valueang_change(change): \n",
    "    \"\"\"Callback for when the slider of the angular velocity is changed, it updates the variable z_linear\"\"\"\n",
    "    global z_angular,velocities_msg\n",
    "    z_angular= change['new']\n",
    "    velocities_msg.angular.z = change['new']\n",
    "    velocities_pub.publish(velocities_msg)\n",
    "\n",
    "a.observe(on_value_change, names='value')\n",
    "b.observe(on_valueang_change, names='value')"
   ]
  },
  {
   "cell_type": "code",
   "execution_count": 3,
   "id": "9ecb4c5d-3049-414a-96f8-473bcdb98b5d",
   "metadata": {},
   "outputs": [
    {
     "data": {
      "application/vnd.jupyter.widget-view+json": {
       "model_id": "28ec866c01b9427ca4fe2d6e6561e8ca",
       "version_major": 2,
       "version_minor": 0
      },
      "text/plain": [
       "Button(description='start', layout=Layout(width='auto'), style=ButtonStyle())"
      ]
     },
     "metadata": {},
     "output_type": "display_data"
    },
    {
     "data": {
      "application/vnd.jupyter.widget-view+json": {
       "model_id": "d3758ddd56a840d5818c7aaec07ffce1",
       "version_major": 2,
       "version_minor": 0
      },
      "text/plain": [
       "Button(description='stop when target reached', layout=Layout(width='auto'), style=ButtonStyle())"
      ]
     },
     "metadata": {},
     "output_type": "display_data"
    },
    {
     "data": {
      "application/vnd.jupyter.widget-view+json": {
       "model_id": "1836c7ace27444299cd3b5e3cc3d6860",
       "version_major": 2,
       "version_minor": 0
      },
      "text/plain": [
       "Button(description='stop now', layout=Layout(width='auto'), style=ButtonStyle())"
      ]
     },
     "metadata": {},
     "output_type": "display_data"
    }
   ],
   "source": [
    "ui_client = rospy.ServiceProxy('/user_interface', Command)\n",
    "\n",
    "button_start = widgets.Button(description=\"start\",layout=Layout(width='auto'))\n",
    "button_stop = widgets.Button(description=\"stop when target reached\",layout=Layout(width='auto'))\n",
    "button_stop_now = widgets.Button(description=\"stop now\",layout=Layout(width='auto'))\n",
    "output = widgets.Output()\n",
    "display(button_start,button_stop,button_stop_now)\n",
    "\n",
    "#handle changes, the observe method of the widget can be used to register a callback.\n",
    "def on_button_start_clicked(b):\n",
    "    \"\"\"Callback for when the button start is pressed, it sends a request to the /user_interface service\"\"\"\n",
    "    with output:\n",
    "        print(\"Starting the robot.\")\n",
    "        ui_client(\"start\")\n",
    "def on_button_stop_clicked(b):\n",
    "    \"\"\"Callback for when the button stop is pressed, it sends a request to the /user_interface service\"\"\"\n",
    "    with output:\n",
    "        print(\"Robot will stop when target reached.\")\n",
    "        ui_client(\"stop\")\n",
    "def on_button_stop_now_clicked(b):\n",
    "    \"\"\"Callback for when the button stop now is pressed, it sends a request to the /user_interface service\"\"\"\n",
    "    with output:\n",
    "        print(\"Robot stopped.\")    \n",
    "        ui_client(\"stop_now\")\n",
    "        \n",
    "button_start.on_click(on_button_start_clicked)\n",
    "button_stop.on_click(on_button_stop_clicked)\n",
    "button_stop_now.on_click(on_button_stop_now_clicked)"
   ]
  },
  {
   "cell_type": "code",
   "execution_count": 4,
   "id": "d40a1ac7-8a21-4c0e-a225-1f64a07a0dc2",
   "metadata": {},
   "outputs": [
    {
     "data": {
      "application/vnd.jupyter.widget-view+json": {
       "model_id": "ea347221657141ff98adfa840a308eb8",
       "version_major": 2,
       "version_minor": 0
      },
      "text/plain": [
       "VBox(children=(Button(description='forward', layout=Layout(width='default'), style=ButtonStyle(button_color='l…"
      ]
     },
     "metadata": {},
     "output_type": "display_data"
    }
   ],
   "source": [
    "\n",
    "cmd_vel_msg = Twist()\n",
    "cmd_vel_msg.linear.x=0\n",
    "cmd_vel_msg.angular.z=0\n",
    "\n",
    "cmd_vel_pub = rospy.Publisher('cmd_vel', Twist, queue_size=10)\n",
    "\n",
    "forward = widgets.Button(description=\"forward\",layout=Layout(width='default'),align=\"center\",style=ButtonStyle(button_color='lightgreen'))\n",
    "turn_right = widgets.Button(description=\"turn right\",layout=Layout(width='auto'),style=ButtonStyle(button_color='moccasin'))\n",
    "turn_left = widgets.Button(description=\"turn left\",layout=Layout(width='auto'),style=ButtonStyle(button_color='moccasin'))\n",
    "backward = widgets.Button(description=\"backward\",layout=Layout(width='default'),align=\"center\",style=ButtonStyle(button_color='gold'))\n",
    "stop = widgets.Button(description=\"stop\",layout=Layout(width='default'),style=ButtonStyle(button_color='salmon'))\n",
    "output = widgets.Output()\n",
    "#display(forward,turn_right,turn_left,backward,stop,output)\n",
    "\n",
    "#handle changes, the observe method of the widget can be used to register a callback.\n",
    "def on_button_forward_clicked(b):\n",
    "    \"\"\"Callback for when the button forward is pressed, it sends publish to the /cmd_vel topic\"\"\"\n",
    "    with output:\n",
    "        global cmd_vel_msg,x_linear,z_angular,ui_client\n",
    "        ui_client(\"stop_now\")\n",
    "        time.sleep(1/20)                  # the ui_client cancel the goal and stops the robot by publishing zero velocities in cmd_vel,\n",
    "        print(\"going straight forward.\")  # we need to wait some time in order to be sure to publish the new velocities after that\n",
    "        cmd_vel_msg.linear.x=x_linear\n",
    "        cmd_vel_msg.angular.z=0\n",
    "        cmd_vel_pub.publish(cmd_vel_msg)\n",
    "                           \n",
    "def on_button_backward_clicked(b):\n",
    "    \"\"\"Callback for when the button backward is pressed, it sends publish to the /cmd_vel topic\"\"\"\n",
    "    with output:\n",
    "        global cmd_vel_msg,x_linear,z_angular,ui_client\n",
    "        ui_client(\"stop_now\")\n",
    "        time.sleep(1/20)                    # the ui_client cancel the goal and stops the robot by publishing zero velocities in cmd_vel,\n",
    "        print(\"going straight backward.\")   # we need to wait some time in order to be sure to publish the new velocities after that\n",
    "        cmd_vel_msg.linear.x=-x_linear\n",
    "        cmd_vel_msg.angular.z=0\n",
    "        cmd_vel_pub.publish(cmd_vel_msg)                           \n",
    "\n",
    "def on_button_turn_left_clicked(b):\n",
    "    \"\"\"Callback for when the button turn left is pressed, it sends publish to the /cmd_vel topic\"\"\"\n",
    "    with output:\n",
    "        global cmd_vel_msg,x_linear,z_angular,ui_client\n",
    "        ui_client(\"stop_now\")\n",
    "        time.sleep(1/20)                   # the ui_client cancel the goal and stops the robot by publishing zero velocities in cmd_vel, \n",
    "        print(\"turning left.\")             # we need to wait some time in order to be sure to publish the new velocities after that\n",
    "        cmd_vel_msg.linear.x=0\n",
    "        cmd_vel_msg.angular.z=-z_angular\n",
    "        cmd_vel_pub.publish(cmd_vel_msg) \n",
    "                           \n",
    "def on_button_turn_right_clicked(b):\n",
    "    \"\"\"Callback for when the button turn right is pressed, it sends publish to the /cmd_vel topic\"\"\"\n",
    "    with output:\n",
    "        global cmd_vel_msg,x_linear,z_angular,ui_client\n",
    "        ui_client(\"stop_now\")\n",
    "        time.sleep(1/20)                   # the ui_client cancel the goal and stops the robot by publishing zero velocities in cmd_vel, \n",
    "        print(\"turning right.\")            # we need to wait some time in order to be sure to publish the new velocities after that\n",
    "        cmd_vel_msg.linear.x=0\n",
    "        cmd_vel_msg.angular.z=z_angular\n",
    "        cmd_vel_pub.publish(cmd_vel_msg)                          \n",
    "        \n",
    "def on_button_stop_clicked(b):\n",
    "    \"\"\"Callback for when the button stop is pressed, it sends publish to the /cmd_vel topic\"\"\"\n",
    "    with output:\n",
    "        global cmd_vel_msg,x_linear,z_angular,ui_client\n",
    "        ui_client(\"stop_now\")\n",
    "        time.sleep(1/20)                  # the ui_client cancel the goal and stops the robot by publishing zero velocities in cmd_vel \n",
    "        print(\"robot stopped.\")           # we need to wait some time in order to be sure to publish the new velocities after that\n",
    "        cmd_vel_msg.linear.x=0\n",
    "        cmd_vel_msg.angular.z=0\n",
    "        cmd_vel_pub.publish(cmd_vel_msg)\n",
    "        \n",
    "forward.on_click(on_button_forward_clicked)\n",
    "backward.on_click(on_button_backward_clicked)\n",
    "turn_left.on_click(on_button_turn_left_clicked)\n",
    "turn_right.on_click(on_button_turn_right_clicked)  \n",
    "stop.on_click(on_button_stop_clicked)  \n",
    "\n",
    "VBox([forward,HBox([turn_left,turn_right]),backward,stop])"
   ]
  },
  {
   "cell_type": "code",
   "execution_count": 5,
   "id": "d066fa4e-8520-4ce4-89dd-89d170ba055d",
   "metadata": {},
   "outputs": [
    {
     "data": {
      "application/vnd.jupyter.widget-view+json": {
       "model_id": "c2bf0f53b4b24ea2ab23bdd39e5c0977",
       "version_major": 2,
       "version_minor": 0
      },
      "text/plain": [
       "Canvas(toolbar=Toolbar(toolitems=[('Home', 'Reset original view', 'home', 'home'), ('Back', 'Back to previous …"
      ]
     },
     "metadata": {},
     "output_type": "display_data"
    }
   ],
   "source": [
    "fig, ax = plt.subplots()\n",
    "x_lin=0\n",
    "z_ang=0\n",
    "real_x_lin=0\n",
    "real_z_ang=0\n",
    "x_lin_cmd_vel, = ax.plot([], [], 'ro',label='x_lin cmd_vel',linestyle = '-',markersize=1,marker = ',')\n",
    "z_ang_cmd_vel, = ax.plot([], [], 'ro',label='z_ang cmd_vel',color = 'blue',linestyle = '-',markersize=1,marker = ',')\n",
    "x_lin_real, = ax.plot([], [], 'ro',label='Real x_lin ',color = 'green',linestyle = '-',markersize=1,marker = ',')\n",
    "z_ang_real, = ax.plot([], [], 'ro',label='Real z_ang ',color = 'orange',linestyle = '-',markersize=1,marker = ',')\n",
    "ax.axis([0, 10, -1.5, 1.5])\n",
    "tick=time.time()\n",
    "x_data=[]\n",
    "x_lin_cmd_vel_data=[]\n",
    "z_ang_cmd_vel_data=[]\n",
    "x_lin_real_data=[]\n",
    "z_ang_real_data=[]\n",
    "ax.set_xlabel('time')  # Add an x-label to the axes.\n",
    "ax.set_title(\"velocities\")  # Add a title to the axes.\n",
    "ax.legend()  # Add a legend.\n",
    "\n",
    "\n",
    "def init():\n",
    "    x_lin_cmd_vel.set_data([], [])\n",
    "    z_ang_cmd_vel.set_data([], [])\n",
    "    x_lin_real.set_data([], [])\n",
    "    z_ang_real.set_data([], [])\n",
    "    return (x_lin_cmd_vel,z_ang_cmd_vel,x_lin_real,z_ang_real)\n",
    "\n",
    "\n",
    "def cmd_callback(msg):\n",
    "    global x_lin,z_ang\n",
    "    x_lin=msg.linear.x\n",
    "    z_ang=msg.angular.z\n",
    "    \n",
    "def odom_callback(msg):\n",
    "    global real_x_lin,real_z_ang\n",
    "    real_x_lin=msg.twist.twist.linear.x\n",
    "    real_z_ang=-msg.twist.twist.angular.z*2\n",
    "    \n",
    "    \n",
    "def animate(i):\n",
    "    global tick\n",
    "    x_lin_cmd_vel_data.append(x_lin)\n",
    "    z_ang_cmd_vel_data.append(z_ang)\n",
    "    x_lin_real_data.append(real_x_lin)\n",
    "    z_ang_real_data.append(real_z_ang)\n",
    "    x_data.append(time.time()-tick)\n",
    "    x_lin_cmd_vel.set_data(x_data, x_lin_cmd_vel_data)\n",
    "    z_ang_cmd_vel.set_data(x_data, z_ang_cmd_vel_data)\n",
    "    x_lin_real.set_data([x_data], [x_lin_real_data])\n",
    "    z_ang_real.set_data([x_data], [z_ang_real_data])\n",
    "    \n",
    "    if x_data[len(x_data)-1]>9 :\n",
    "        ax.axis([x_data[len(x_data)-1]-9, x_data[len(x_data)-1]+1, -1.5,1.5])   \n",
    "        x_lin_cmd_vel_data.pop(0)\n",
    "        z_ang_cmd_vel_data.pop(0)\n",
    "        x_lin_real_data.pop(0)\n",
    "        z_ang_real_data.pop(0)\n",
    "        x_data.pop(0)\n",
    "        \n",
    "    return (x_lin_cmd_vel,z_ang_cmd_vel,x_lin_real,z_ang_real)\n",
    "\n",
    "#jr.subscribe('/cmd_vel', Twist, cmd_callback)\n",
    "rospy.Subscriber('/cmd_vel', Twist, cmd_callback)\n",
    "rospy.Subscriber('/odom', Odometry, odom_callback)\n",
    "anim = animation.FuncAnimation(fig, animate, init_func=init, blit=True,interval=20)"
   ]
  },
  {
   "cell_type": "code",
   "execution_count": 6,
   "id": "8ddfd1aa-5f07-44a0-9c1d-48034498d388",
   "metadata": {},
   "outputs": [
    {
     "data": {
      "application/vnd.jupyter.widget-view+json": {
       "model_id": "e2b6fd8ca77d477b8b8ebbacad198405",
       "version_major": 2,
       "version_minor": 0
      },
      "text/plain": [
       "Canvas(toolbar=Toolbar(toolitems=[('Home', 'Reset original view', 'home', 'home'), ('Back', 'Back to previous …"
      ]
     },
     "metadata": {},
     "output_type": "display_data"
    },
    {
     "data": {
      "application/vnd.jupyter.widget-view+json": {
       "model_id": "c9f97842049d4798b007898345118004",
       "version_major": 2,
       "version_minor": 0
      },
      "text/plain": [
       "VBox(children=(HBox(children=(Button(description='Stop', style=ButtonStyle()),)), Output(layout=Layout(border=…"
      ]
     },
     "metadata": {},
     "output_type": "display_data"
    }
   ],
   "source": [
    "N_succ=0\n",
    "N_preempt=0\n",
    "T_succ=[]\n",
    "T_start=time.time()\n",
    "\n",
    "fig1, ax1 = plt.subplots()\n",
    "ax1.set_title('time to reach the goal')\n",
    "ax1.boxplot(T_succ)\n",
    "\n",
    "def result_callback(msg):\n",
    "    global N_succ,N_preempt,T_start,T_succ\n",
    "    \n",
    "    if msg.status.status==2:\n",
    "        N_preempt=N_preempt+1\n",
    "        \n",
    "    if msg.status.status==3:\n",
    "        N_succ=N_succ+1   \n",
    "        T_succ.append(time.time()-T_start)\n",
    "        if N_succ>1:\n",
    "            ax1.clear()\n",
    "            ax1.boxplot(T_succ)\n",
    "        \n",
    "def goal_callback(msg):   \n",
    "    global T_start\n",
    "    T_start=time.time()\n",
    "    \n",
    "jr.subscribe('/go_to_point/result', go_to_pointActionResult, result_callback)\n",
    "jr.subscribe('/go_to_point/goal', go_to_pointActionGoal, goal_callback)\n",
    "\n"
   ]
  },
  {
   "cell_type": "code",
   "execution_count": 11,
   "id": "6634c38a-2af6-4eaf-b3cb-302e90c682f9",
   "metadata": {},
   "outputs": [
    {
     "name": "stdout",
     "output_type": "stream",
     "text": [
      "23\n",
      "23\n",
      "8.884566068649292\n",
      "23.087652683258057\n",
      "27.9969961643219\n",
      "18.362051248550415\n",
      "10.964012622833252\n",
      "32.838895320892334\n",
      "37.442471504211426\n",
      "29.752261638641357\n",
      "12.232122421264648\n",
      "14.989827394485474\n",
      "26.31863570213318\n",
      "9.468085289001465\n",
      "14.667798280715942\n"
     ]
    }
   ],
   "source": [
    "print(len(T_succ))\n",
    "print(N_succ)\n",
    "print(T_succ[0])\n",
    "print(T_succ[1])\n",
    "print(T_succ[2])\n",
    "print(T_succ[3])\n",
    "print(T_succ[4])\n",
    "print(T_succ[5])\n",
    "print(T_succ[6])\n",
    "print(T_succ[7])\n",
    "print(T_succ[8])\n",
    "print(T_succ[9])\n",
    "print(T_succ[10])\n"
   ]
  },
  {
   "cell_type": "code",
   "execution_count": null,
   "id": "29eeb7f0-3b06-4eb9-91b3-688353a195db",
   "metadata": {},
   "outputs": [],
   "source": []
  }
 ],
 "metadata": {
  "kernelspec": {
   "display_name": "Python 3",
   "language": "python",
   "name": "python3"
  },
  "language_info": {
   "codemirror_mode": {
    "name": "ipython",
    "version": 3
   },
   "file_extension": ".py",
   "mimetype": "text/x-python",
   "name": "python",
   "nbconvert_exporter": "python",
   "pygments_lexer": "ipython3",
   "version": "3.8.5"
  }
 },
 "nbformat": 4,
 "nbformat_minor": 5
}
